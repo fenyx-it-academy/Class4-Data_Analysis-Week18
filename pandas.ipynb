{
 "metadata": {
  "language_info": {
   "codemirror_mode": {
    "name": "ipython",
    "version": 3
   },
   "file_extension": ".py",
   "mimetype": "text/x-python",
   "name": "python",
   "nbconvert_exporter": "python",
   "pygments_lexer": "ipython3",
   "version": "3.9.2"
  },
  "orig_nbformat": 2,
  "kernelspec": {
   "name": "python392jvsc74a57bd070dc6e59c876987feb607a01dfc3a1f1db267110d2b6cf914c9a9f09e8ab1daa",
   "display_name": "Python 3.9.2 64-bit"
  },
  "metadata": {
   "interpreter": {
    "hash": "70dc6e59c876987feb607a01dfc3a1f1db267110d2b6cf914c9a9f09e8ab1daa"
   }
  }
 },
 "nbformat": 4,
 "nbformat_minor": 2,
 "cells": [
  {
   "cell_type": "code",
   "execution_count": 1,
   "metadata": {},
   "outputs": [],
   "source": [
    "import pandas as pd"
   ]
  },
  {
   "cell_type": "code",
   "execution_count": 39,
   "metadata": {},
   "outputs": [
    {
     "output_type": "execute_result",
     "data": {
      "text/plain": [
       "              Date Location  MinTemp  MaxTemp  Rainfall  Evaporation  \\\n",
       "0       2008-12-01   Albury     13.4     22.9       0.6          NaN   \n",
       "1       2008-12-02   Albury      7.4     25.1       0.0          NaN   \n",
       "2       2008-12-03   Albury     12.9     25.7       0.0          NaN   \n",
       "3       2008-12-04   Albury      9.2     28.0       0.0          NaN   \n",
       "4       2008-12-05   Albury     17.5     32.3       1.0          NaN   \n",
       "...            ...      ...      ...      ...       ...          ...   \n",
       "145455  2017-06-21    Uluru      2.8     23.4       0.0          NaN   \n",
       "145456  2017-06-22    Uluru      3.6     25.3       0.0          NaN   \n",
       "145457  2017-06-23    Uluru      5.4     26.9       0.0          NaN   \n",
       "145458  2017-06-24    Uluru      7.8     27.0       0.0          NaN   \n",
       "145459  2017-06-25    Uluru     14.9      NaN       0.0          NaN   \n",
       "\n",
       "        Sunshine WindGustDir  WindGustSpeed WindDir9am  ... Humidity9am  \\\n",
       "0            NaN           W           44.0          W  ...        71.0   \n",
       "1            NaN         WNW           44.0        NNW  ...        44.0   \n",
       "2            NaN         WSW           46.0          W  ...        38.0   \n",
       "3            NaN          NE           24.0         SE  ...        45.0   \n",
       "4            NaN           W           41.0        ENE  ...        82.0   \n",
       "...          ...         ...            ...        ...  ...         ...   \n",
       "145455       NaN           E           31.0         SE  ...        51.0   \n",
       "145456       NaN         NNW           22.0         SE  ...        56.0   \n",
       "145457       NaN           N           37.0         SE  ...        53.0   \n",
       "145458       NaN          SE           28.0        SSE  ...        51.0   \n",
       "145459       NaN         NaN            NaN        ESE  ...        62.0   \n",
       "\n",
       "        Humidity3pm  Pressure9am  Pressure3pm  Cloud9am  Cloud3pm  Temp9am  \\\n",
       "0              22.0       1007.7       1007.1       8.0       NaN     16.9   \n",
       "1              25.0       1010.6       1007.8       NaN       NaN     17.2   \n",
       "2              30.0       1007.6       1008.7       NaN       2.0     21.0   \n",
       "3              16.0       1017.6       1012.8       NaN       NaN     18.1   \n",
       "4              33.0       1010.8       1006.0       7.0       8.0     17.8   \n",
       "...             ...          ...          ...       ...       ...      ...   \n",
       "145455         24.0       1024.6       1020.3       NaN       NaN     10.1   \n",
       "145456         21.0       1023.5       1019.1       NaN       NaN     10.9   \n",
       "145457         24.0       1021.0       1016.8       NaN       NaN     12.5   \n",
       "145458         24.0       1019.4       1016.5       3.0       2.0     15.1   \n",
       "145459         36.0       1020.2       1017.9       8.0       8.0     15.0   \n",
       "\n",
       "        Temp3pm  RainToday  RainTomorrow  \n",
       "0          21.8         No            No  \n",
       "1          24.3         No            No  \n",
       "2          23.2         No            No  \n",
       "3          26.5         No            No  \n",
       "4          29.7         No            No  \n",
       "...         ...        ...           ...  \n",
       "145455     22.4         No            No  \n",
       "145456     24.5         No            No  \n",
       "145457     26.1         No            No  \n",
       "145458     26.0         No            No  \n",
       "145459     20.9         No           NaN  \n",
       "\n",
       "[145460 rows x 23 columns]"
      ],
      "text/html": "<div>\n<style scoped>\n    .dataframe tbody tr th:only-of-type {\n        vertical-align: middle;\n    }\n\n    .dataframe tbody tr th {\n        vertical-align: top;\n    }\n\n    .dataframe thead th {\n        text-align: right;\n    }\n</style>\n<table border=\"1\" class=\"dataframe\">\n  <thead>\n    <tr style=\"text-align: right;\">\n      <th></th>\n      <th>Date</th>\n      <th>Location</th>\n      <th>MinTemp</th>\n      <th>MaxTemp</th>\n      <th>Rainfall</th>\n      <th>Evaporation</th>\n      <th>Sunshine</th>\n      <th>WindGustDir</th>\n      <th>WindGustSpeed</th>\n      <th>WindDir9am</th>\n      <th>...</th>\n      <th>Humidity9am</th>\n      <th>Humidity3pm</th>\n      <th>Pressure9am</th>\n      <th>Pressure3pm</th>\n      <th>Cloud9am</th>\n      <th>Cloud3pm</th>\n      <th>Temp9am</th>\n      <th>Temp3pm</th>\n      <th>RainToday</th>\n      <th>RainTomorrow</th>\n    </tr>\n  </thead>\n  <tbody>\n    <tr>\n      <th>0</th>\n      <td>2008-12-01</td>\n      <td>Albury</td>\n      <td>13.4</td>\n      <td>22.9</td>\n      <td>0.6</td>\n      <td>NaN</td>\n      <td>NaN</td>\n      <td>W</td>\n      <td>44.0</td>\n      <td>W</td>\n      <td>...</td>\n      <td>71.0</td>\n      <td>22.0</td>\n      <td>1007.7</td>\n      <td>1007.1</td>\n      <td>8.0</td>\n      <td>NaN</td>\n      <td>16.9</td>\n      <td>21.8</td>\n      <td>No</td>\n      <td>No</td>\n    </tr>\n    <tr>\n      <th>1</th>\n      <td>2008-12-02</td>\n      <td>Albury</td>\n      <td>7.4</td>\n      <td>25.1</td>\n      <td>0.0</td>\n      <td>NaN</td>\n      <td>NaN</td>\n      <td>WNW</td>\n      <td>44.0</td>\n      <td>NNW</td>\n      <td>...</td>\n      <td>44.0</td>\n      <td>25.0</td>\n      <td>1010.6</td>\n      <td>1007.8</td>\n      <td>NaN</td>\n      <td>NaN</td>\n      <td>17.2</td>\n      <td>24.3</td>\n      <td>No</td>\n      <td>No</td>\n    </tr>\n    <tr>\n      <th>2</th>\n      <td>2008-12-03</td>\n      <td>Albury</td>\n      <td>12.9</td>\n      <td>25.7</td>\n      <td>0.0</td>\n      <td>NaN</td>\n      <td>NaN</td>\n      <td>WSW</td>\n      <td>46.0</td>\n      <td>W</td>\n      <td>...</td>\n      <td>38.0</td>\n      <td>30.0</td>\n      <td>1007.6</td>\n      <td>1008.7</td>\n      <td>NaN</td>\n      <td>2.0</td>\n      <td>21.0</td>\n      <td>23.2</td>\n      <td>No</td>\n      <td>No</td>\n    </tr>\n    <tr>\n      <th>3</th>\n      <td>2008-12-04</td>\n      <td>Albury</td>\n      <td>9.2</td>\n      <td>28.0</td>\n      <td>0.0</td>\n      <td>NaN</td>\n      <td>NaN</td>\n      <td>NE</td>\n      <td>24.0</td>\n      <td>SE</td>\n      <td>...</td>\n      <td>45.0</td>\n      <td>16.0</td>\n      <td>1017.6</td>\n      <td>1012.8</td>\n      <td>NaN</td>\n      <td>NaN</td>\n      <td>18.1</td>\n      <td>26.5</td>\n      <td>No</td>\n      <td>No</td>\n    </tr>\n    <tr>\n      <th>4</th>\n      <td>2008-12-05</td>\n      <td>Albury</td>\n      <td>17.5</td>\n      <td>32.3</td>\n      <td>1.0</td>\n      <td>NaN</td>\n      <td>NaN</td>\n      <td>W</td>\n      <td>41.0</td>\n      <td>ENE</td>\n      <td>...</td>\n      <td>82.0</td>\n      <td>33.0</td>\n      <td>1010.8</td>\n      <td>1006.0</td>\n      <td>7.0</td>\n      <td>8.0</td>\n      <td>17.8</td>\n      <td>29.7</td>\n      <td>No</td>\n      <td>No</td>\n    </tr>\n    <tr>\n      <th>...</th>\n      <td>...</td>\n      <td>...</td>\n      <td>...</td>\n      <td>...</td>\n      <td>...</td>\n      <td>...</td>\n      <td>...</td>\n      <td>...</td>\n      <td>...</td>\n      <td>...</td>\n      <td>...</td>\n      <td>...</td>\n      <td>...</td>\n      <td>...</td>\n      <td>...</td>\n      <td>...</td>\n      <td>...</td>\n      <td>...</td>\n      <td>...</td>\n      <td>...</td>\n      <td>...</td>\n    </tr>\n    <tr>\n      <th>145455</th>\n      <td>2017-06-21</td>\n      <td>Uluru</td>\n      <td>2.8</td>\n      <td>23.4</td>\n      <td>0.0</td>\n      <td>NaN</td>\n      <td>NaN</td>\n      <td>E</td>\n      <td>31.0</td>\n      <td>SE</td>\n      <td>...</td>\n      <td>51.0</td>\n      <td>24.0</td>\n      <td>1024.6</td>\n      <td>1020.3</td>\n      <td>NaN</td>\n      <td>NaN</td>\n      <td>10.1</td>\n      <td>22.4</td>\n      <td>No</td>\n      <td>No</td>\n    </tr>\n    <tr>\n      <th>145456</th>\n      <td>2017-06-22</td>\n      <td>Uluru</td>\n      <td>3.6</td>\n      <td>25.3</td>\n      <td>0.0</td>\n      <td>NaN</td>\n      <td>NaN</td>\n      <td>NNW</td>\n      <td>22.0</td>\n      <td>SE</td>\n      <td>...</td>\n      <td>56.0</td>\n      <td>21.0</td>\n      <td>1023.5</td>\n      <td>1019.1</td>\n      <td>NaN</td>\n      <td>NaN</td>\n      <td>10.9</td>\n      <td>24.5</td>\n      <td>No</td>\n      <td>No</td>\n    </tr>\n    <tr>\n      <th>145457</th>\n      <td>2017-06-23</td>\n      <td>Uluru</td>\n      <td>5.4</td>\n      <td>26.9</td>\n      <td>0.0</td>\n      <td>NaN</td>\n      <td>NaN</td>\n      <td>N</td>\n      <td>37.0</td>\n      <td>SE</td>\n      <td>...</td>\n      <td>53.0</td>\n      <td>24.0</td>\n      <td>1021.0</td>\n      <td>1016.8</td>\n      <td>NaN</td>\n      <td>NaN</td>\n      <td>12.5</td>\n      <td>26.1</td>\n      <td>No</td>\n      <td>No</td>\n    </tr>\n    <tr>\n      <th>145458</th>\n      <td>2017-06-24</td>\n      <td>Uluru</td>\n      <td>7.8</td>\n      <td>27.0</td>\n      <td>0.0</td>\n      <td>NaN</td>\n      <td>NaN</td>\n      <td>SE</td>\n      <td>28.0</td>\n      <td>SSE</td>\n      <td>...</td>\n      <td>51.0</td>\n      <td>24.0</td>\n      <td>1019.4</td>\n      <td>1016.5</td>\n      <td>3.0</td>\n      <td>2.0</td>\n      <td>15.1</td>\n      <td>26.0</td>\n      <td>No</td>\n      <td>No</td>\n    </tr>\n    <tr>\n      <th>145459</th>\n      <td>2017-06-25</td>\n      <td>Uluru</td>\n      <td>14.9</td>\n      <td>NaN</td>\n      <td>0.0</td>\n      <td>NaN</td>\n      <td>NaN</td>\n      <td>NaN</td>\n      <td>NaN</td>\n      <td>ESE</td>\n      <td>...</td>\n      <td>62.0</td>\n      <td>36.0</td>\n      <td>1020.2</td>\n      <td>1017.9</td>\n      <td>8.0</td>\n      <td>8.0</td>\n      <td>15.0</td>\n      <td>20.9</td>\n      <td>No</td>\n      <td>NaN</td>\n    </tr>\n  </tbody>\n</table>\n<p>145460 rows × 23 columns</p>\n</div>"
     },
     "metadata": {},
     "execution_count": 39
    }
   ],
   "source": [
    "df=pd.read_csv('weatherAUS.csv',encoding='utf-8')\n",
    "df"
   ]
  },
  {
   "cell_type": "code",
   "execution_count": null,
   "metadata": {},
   "outputs": [],
   "source": [
    "df.info"
   ]
  },
  {
   "cell_type": "code",
   "execution_count": 132,
   "metadata": {},
   "outputs": [
    {
     "output_type": "execute_result",
     "data": {
      "text/plain": [
       "<bound method NDFrame.describe of               Date Location  MinTemp  MaxTemp  Rainfall WindGustDir  \\\n",
       "0       2008-12-01   Albury     13.4     22.9       0.6           W   \n",
       "1       2008-12-02   Albury      7.4     25.1       0.0         WNW   \n",
       "2       2008-12-03   Albury     12.9     25.7       0.0         WSW   \n",
       "3       2008-12-04   Albury      9.2     28.0       0.0          NE   \n",
       "4       2008-12-05   Albury     17.5     32.3       1.0           W   \n",
       "...            ...      ...      ...      ...       ...         ...   \n",
       "145455  2017-06-21    Uluru      2.8     23.4       0.0           E   \n",
       "145456  2017-06-22    Uluru      3.6     25.3       0.0         NNW   \n",
       "145457  2017-06-23    Uluru      5.4     26.9       0.0           N   \n",
       "145458  2017-06-24    Uluru      7.8     27.0       0.0          SE   \n",
       "145459  2017-06-25    Uluru     14.9      NaN       0.0         NaN   \n",
       "\n",
       "        WindGustSpeed WindDir9am WindDir3pm  WindSpeed9am  ...  Humidity3pm  \\\n",
       "0                44.0          W        WNW          20.0  ...         22.0   \n",
       "1                44.0        NNW        WSW           4.0  ...         25.0   \n",
       "2                46.0          W        WSW          19.0  ...         30.0   \n",
       "3                24.0         SE          E          11.0  ...         16.0   \n",
       "4                41.0        ENE         NW           7.0  ...         33.0   \n",
       "...               ...        ...        ...           ...  ...          ...   \n",
       "145455           31.0         SE        ENE          13.0  ...         24.0   \n",
       "145456           22.0         SE          N          13.0  ...         21.0   \n",
       "145457           37.0         SE        WNW           9.0  ...         24.0   \n",
       "145458           28.0        SSE          N          13.0  ...         24.0   \n",
       "145459            NaN        ESE        ESE          17.0  ...         36.0   \n",
       "\n",
       "        Pressure9am  Pressure3pm  Cloud9am  Cloud3pm  Temp9am  Temp3pm  \\\n",
       "0            1007.7       1007.1       8.0       NaN     16.9     21.8   \n",
       "1            1010.6       1007.8       NaN       NaN     17.2     24.3   \n",
       "2            1007.6       1008.7       NaN       2.0     21.0     23.2   \n",
       "3            1017.6       1012.8       NaN       NaN     18.1     26.5   \n",
       "4            1010.8       1006.0       7.0       8.0     17.8     29.7   \n",
       "...             ...          ...       ...       ...      ...      ...   \n",
       "145455       1024.6       1020.3       NaN       NaN     10.1     22.4   \n",
       "145456       1023.5       1019.1       NaN       NaN     10.9     24.5   \n",
       "145457       1021.0       1016.8       NaN       NaN     12.5     26.1   \n",
       "145458       1019.4       1016.5       3.0       2.0     15.1     26.0   \n",
       "145459       1020.2       1017.9       8.0       8.0     15.0     20.9   \n",
       "\n",
       "        RainToday  RainTomorrow Difference  \n",
       "0          NoRain        NoRain        9.5  \n",
       "1          NoRain        NoRain       17.7  \n",
       "2          NoRain        NoRain       12.8  \n",
       "3          NoRain        NoRain       18.8  \n",
       "4          NoRain        NoRain       14.8  \n",
       "...           ...           ...        ...  \n",
       "145455     NoRain        NoRain       20.6  \n",
       "145456     NoRain        NoRain       21.7  \n",
       "145457     NoRain        NoRain       21.5  \n",
       "145458     NoRain        NoRain       19.2  \n",
       "145459     NoRain           NaN        NaN  \n",
       "\n",
       "[145460 rows x 22 columns]>"
      ]
     },
     "metadata": {},
     "execution_count": 132
    }
   ],
   "source": [
    "df.describe"
   ]
  },
  {
   "cell_type": "code",
   "execution_count": null,
   "metadata": {},
   "outputs": [],
   "source": [
    "df.size"
   ]
  },
  {
   "cell_type": "code",
   "execution_count": null,
   "metadata": {},
   "outputs": [],
   "source": [
    "df.shape"
   ]
  },
  {
   "cell_type": "code",
   "execution_count": null,
   "metadata": {},
   "outputs": [],
   "source": [
    "Types=df.dtypes"
   ]
  },
  {
   "cell_type": "code",
   "execution_count": null,
   "metadata": {},
   "outputs": [],
   "source": [
    "isnuLL=df.isnull().sum()"
   ]
  },
  {
   "cell_type": "code",
   "execution_count": null,
   "metadata": {},
   "outputs": [],
   "source": [
    "notnuLL=df.notnull().sum()"
   ]
  },
  {
   "cell_type": "code",
   "execution_count": null,
   "metadata": {},
   "outputs": [],
   "source": [
    "nuniqEE=df.nunique()"
   ]
  },
  {
   "cell_type": "code",
   "execution_count": 139,
   "metadata": {},
   "outputs": [
    {
     "output_type": "execute_result",
     "data": {
      "text/plain": [
       "          columns    dtype  notnull  isnul  nunique\n",
       "0            Date   object   145460      0     3436\n",
       "1        Location   object   145460      0       49\n",
       "2         MinTemp  float64   143975   1485      389\n",
       "3         MaxTemp  float64   144199   1261      505\n",
       "4        Rainfall  float64   142199   3261      681\n",
       "5     Evaporation  float64    82670  62790      358\n",
       "6        Sunshine  float64    75625  69835      145\n",
       "7     WindGustDir   object   135134  10326       16\n",
       "8   WindGustSpeed  float64   135197  10263       67\n",
       "9      WindDir9am   object   134894  10566       16\n",
       "10     WindDir3pm   object   141232   4228       16\n",
       "11   WindSpeed9am  float64   143693   1767       43\n",
       "12   WindSpeed3pm  float64   142398   3062       44\n",
       "13    Humidity9am  float64   142806   2654      101\n",
       "14    Humidity3pm  float64   140953   4507      101\n",
       "15    Pressure9am  float64   130395  15065      546\n",
       "16    Pressure3pm  float64   130432  15028      549\n",
       "17       Cloud9am  float64    89572  55888       10\n",
       "18       Cloud3pm  float64    86102  59358       10\n",
       "19        Temp9am  float64   143693   1767      441\n",
       "20        Temp3pm  float64   141851   3609      502\n",
       "21      RainToday   object   142199   3261        2\n",
       "22   RainTomorrow   object   142193   3267        2"
      ],
      "text/html": "<div>\n<style scoped>\n    .dataframe tbody tr th:only-of-type {\n        vertical-align: middle;\n    }\n\n    .dataframe tbody tr th {\n        vertical-align: top;\n    }\n\n    .dataframe thead th {\n        text-align: right;\n    }\n</style>\n<table border=\"1\" class=\"dataframe\">\n  <thead>\n    <tr style=\"text-align: right;\">\n      <th></th>\n      <th>columns</th>\n      <th>dtype</th>\n      <th>notnull</th>\n      <th>isnul</th>\n      <th>nunique</th>\n    </tr>\n  </thead>\n  <tbody>\n    <tr>\n      <th>0</th>\n      <td>Date</td>\n      <td>object</td>\n      <td>145460</td>\n      <td>0</td>\n      <td>3436</td>\n    </tr>\n    <tr>\n      <th>1</th>\n      <td>Location</td>\n      <td>object</td>\n      <td>145460</td>\n      <td>0</td>\n      <td>49</td>\n    </tr>\n    <tr>\n      <th>2</th>\n      <td>MinTemp</td>\n      <td>float64</td>\n      <td>143975</td>\n      <td>1485</td>\n      <td>389</td>\n    </tr>\n    <tr>\n      <th>3</th>\n      <td>MaxTemp</td>\n      <td>float64</td>\n      <td>144199</td>\n      <td>1261</td>\n      <td>505</td>\n    </tr>\n    <tr>\n      <th>4</th>\n      <td>Rainfall</td>\n      <td>float64</td>\n      <td>142199</td>\n      <td>3261</td>\n      <td>681</td>\n    </tr>\n    <tr>\n      <th>5</th>\n      <td>Evaporation</td>\n      <td>float64</td>\n      <td>82670</td>\n      <td>62790</td>\n      <td>358</td>\n    </tr>\n    <tr>\n      <th>6</th>\n      <td>Sunshine</td>\n      <td>float64</td>\n      <td>75625</td>\n      <td>69835</td>\n      <td>145</td>\n    </tr>\n    <tr>\n      <th>7</th>\n      <td>WindGustDir</td>\n      <td>object</td>\n      <td>135134</td>\n      <td>10326</td>\n      <td>16</td>\n    </tr>\n    <tr>\n      <th>8</th>\n      <td>WindGustSpeed</td>\n      <td>float64</td>\n      <td>135197</td>\n      <td>10263</td>\n      <td>67</td>\n    </tr>\n    <tr>\n      <th>9</th>\n      <td>WindDir9am</td>\n      <td>object</td>\n      <td>134894</td>\n      <td>10566</td>\n      <td>16</td>\n    </tr>\n    <tr>\n      <th>10</th>\n      <td>WindDir3pm</td>\n      <td>object</td>\n      <td>141232</td>\n      <td>4228</td>\n      <td>16</td>\n    </tr>\n    <tr>\n      <th>11</th>\n      <td>WindSpeed9am</td>\n      <td>float64</td>\n      <td>143693</td>\n      <td>1767</td>\n      <td>43</td>\n    </tr>\n    <tr>\n      <th>12</th>\n      <td>WindSpeed3pm</td>\n      <td>float64</td>\n      <td>142398</td>\n      <td>3062</td>\n      <td>44</td>\n    </tr>\n    <tr>\n      <th>13</th>\n      <td>Humidity9am</td>\n      <td>float64</td>\n      <td>142806</td>\n      <td>2654</td>\n      <td>101</td>\n    </tr>\n    <tr>\n      <th>14</th>\n      <td>Humidity3pm</td>\n      <td>float64</td>\n      <td>140953</td>\n      <td>4507</td>\n      <td>101</td>\n    </tr>\n    <tr>\n      <th>15</th>\n      <td>Pressure9am</td>\n      <td>float64</td>\n      <td>130395</td>\n      <td>15065</td>\n      <td>546</td>\n    </tr>\n    <tr>\n      <th>16</th>\n      <td>Pressure3pm</td>\n      <td>float64</td>\n      <td>130432</td>\n      <td>15028</td>\n      <td>549</td>\n    </tr>\n    <tr>\n      <th>17</th>\n      <td>Cloud9am</td>\n      <td>float64</td>\n      <td>89572</td>\n      <td>55888</td>\n      <td>10</td>\n    </tr>\n    <tr>\n      <th>18</th>\n      <td>Cloud3pm</td>\n      <td>float64</td>\n      <td>86102</td>\n      <td>59358</td>\n      <td>10</td>\n    </tr>\n    <tr>\n      <th>19</th>\n      <td>Temp9am</td>\n      <td>float64</td>\n      <td>143693</td>\n      <td>1767</td>\n      <td>441</td>\n    </tr>\n    <tr>\n      <th>20</th>\n      <td>Temp3pm</td>\n      <td>float64</td>\n      <td>141851</td>\n      <td>3609</td>\n      <td>502</td>\n    </tr>\n    <tr>\n      <th>21</th>\n      <td>RainToday</td>\n      <td>object</td>\n      <td>142199</td>\n      <td>3261</td>\n      <td>2</td>\n    </tr>\n    <tr>\n      <th>22</th>\n      <td>RainTomorrow</td>\n      <td>object</td>\n      <td>142193</td>\n      <td>3267</td>\n      <td>2</td>\n    </tr>\n  </tbody>\n</table>\n</div>"
     },
     "metadata": {},
     "execution_count": 139
    }
   ],
   "source": [
    "new=pd.DataFrame({'columns':(Types.index),\"dtype\":(Types.values),\"notnull\":(notnuLL.values),\"isnul\":(isnuLL.values),\"nunique\":(nuniqEE.values)})\n",
    "new"
   ]
  },
  {
   "cell_type": "code",
   "execution_count": null,
   "metadata": {},
   "outputs": [],
   "source": [
    "LowerCase=df.columns.str.lower()\n",
    "LowerCase"
   ]
  },
  {
   "cell_type": "code",
   "execution_count": null,
   "metadata": {},
   "outputs": [],
   "source": [
    "df[\"RainToday\"].replace({\"No\":\"NoRain\",\"Yes\":\"Rain\"},inplace=True)\n",
    "df[\"RainTomorrow\"].replace({\"No\":\"NoRain\",\"Yes\":\"Rain\"},inplace=True)"
   ]
  },
  {
   "cell_type": "code",
   "execution_count": null,
   "metadata": {},
   "outputs": [],
   "source": [
    "df.astype({\"Date\":\"datetime64\"}).dtypes"
   ]
  },
  {
   "cell_type": "code",
   "execution_count": null,
   "metadata": {},
   "outputs": [],
   "source": [
    "df.Date.dt.strftime(\"%d,%m,%Y\")T"
   ]
  },
  {
   "cell_type": "code",
   "execution_count": null,
   "metadata": {},
   "outputs": [],
   "source": [
    "df[\"Difference\"]= df['MaxTemp']-df['MinTemp']\n",
    "df.head(1)"
   ]
  },
  {
   "cell_type": "code",
   "execution_count": null,
   "metadata": {},
   "outputs": [],
   "source": [
    "df.drop([\"Evaporation\",\"Sunshine\"],axis=1)"
   ]
  },
  {
   "cell_type": "code",
   "execution_count": null,
   "metadata": {},
   "outputs": [],
   "source": []
  },
  {
   "cell_type": "code",
   "execution_count": 262,
   "metadata": {},
   "outputs": [
    {
     "output_type": "execute_result",
     "data": {
      "text/plain": [
       "            location  miktar         day\n",
       "0       CoffsHarbour   371.0  2009-11-07\n",
       "1             Darwin   367.6  2011-02-16\n",
       "2             Cairns   278.4  2009-01-12\n",
       "3             Cairns   268.6  2011-02-04\n",
       "4             Cairns   247.2  2015-02-08\n",
       "...              ...     ...         ...\n",
       "142194      Ballarat     0.0  2017-03-18\n",
       "142195      Ballarat     0.0  2017-03-17\n",
       "142196      Ballarat     0.0  2017-03-15\n",
       "142197      Ballarat     0.0  2017-03-14\n",
       "142198         Uluru     0.0  2017-06-25\n",
       "\n",
       "[142199 rows x 3 columns]"
      ],
      "text/html": "<div>\n<style scoped>\n    .dataframe tbody tr th:only-of-type {\n        vertical-align: middle;\n    }\n\n    .dataframe tbody tr th {\n        vertical-align: top;\n    }\n\n    .dataframe thead th {\n        text-align: right;\n    }\n</style>\n<table border=\"1\" class=\"dataframe\">\n  <thead>\n    <tr style=\"text-align: right;\">\n      <th></th>\n      <th>location</th>\n      <th>miktar</th>\n      <th>day</th>\n    </tr>\n  </thead>\n  <tbody>\n    <tr>\n      <th>0</th>\n      <td>CoffsHarbour</td>\n      <td>371.0</td>\n      <td>2009-11-07</td>\n    </tr>\n    <tr>\n      <th>1</th>\n      <td>Darwin</td>\n      <td>367.6</td>\n      <td>2011-02-16</td>\n    </tr>\n    <tr>\n      <th>2</th>\n      <td>Cairns</td>\n      <td>278.4</td>\n      <td>2009-01-12</td>\n    </tr>\n    <tr>\n      <th>3</th>\n      <td>Cairns</td>\n      <td>268.6</td>\n      <td>2011-02-04</td>\n    </tr>\n    <tr>\n      <th>4</th>\n      <td>Cairns</td>\n      <td>247.2</td>\n      <td>2015-02-08</td>\n    </tr>\n    <tr>\n      <th>...</th>\n      <td>...</td>\n      <td>...</td>\n      <td>...</td>\n    </tr>\n    <tr>\n      <th>142194</th>\n      <td>Ballarat</td>\n      <td>0.0</td>\n      <td>2017-03-18</td>\n    </tr>\n    <tr>\n      <th>142195</th>\n      <td>Ballarat</td>\n      <td>0.0</td>\n      <td>2017-03-17</td>\n    </tr>\n    <tr>\n      <th>142196</th>\n      <td>Ballarat</td>\n      <td>0.0</td>\n      <td>2017-03-15</td>\n    </tr>\n    <tr>\n      <th>142197</th>\n      <td>Ballarat</td>\n      <td>0.0</td>\n      <td>2017-03-14</td>\n    </tr>\n    <tr>\n      <th>142198</th>\n      <td>Uluru</td>\n      <td>0.0</td>\n      <td>2017-06-25</td>\n    </tr>\n  </tbody>\n</table>\n<p>142199 rows × 3 columns</p>\n</div>"
     },
     "metadata": {},
     "execution_count": 262
    }
   ],
   "source": [
    "maxrain=pd.DataFrame({\"location\":df.Location.values, 'miktar':df.Rainfall.values, 'day':df.Date.values})\n",
    "maxrain.dropna(inplace=True)\n",
    "a=maxrain.sort_values('miktar',ascending=False,ignore_index=True)\n",
    "a\n",
    "# new=pd.DataFrame({\"CityName\":a.location[0::], \"day\":a.day[0::]})\n",
    "# new"
   ]
  },
  {
   "cell_type": "code",
   "execution_count": 96,
   "metadata": {
    "tags": []
   },
   "outputs": [
    {
     "output_type": "execute_result",
     "data": {
      "text/plain": [
       "        location  maxtemp\n",
       "Albury       6.8      6.8\n",
       "Albury       7.5      7.5\n",
       "Albury       8.2      8.2\n",
       "Albury       8.2      8.2\n",
       "Albury       8.3      8.3\n",
       "...          ...      ...\n",
       "Albury      43.1     43.1\n",
       "Albury      43.4     43.4\n",
       "Albury      43.6     43.6\n",
       "Albury      43.7     43.7\n",
       "Albury      44.8     44.8\n",
       "\n",
       "[3008 rows x 2 columns]"
      ],
      "text/html": "<div>\n<style scoped>\n    .dataframe tbody tr th:only-of-type {\n        vertical-align: middle;\n    }\n\n    .dataframe tbody tr th {\n        vertical-align: top;\n    }\n\n    .dataframe thead th {\n        text-align: right;\n    }\n</style>\n<table border=\"1\" class=\"dataframe\">\n  <thead>\n    <tr style=\"text-align: right;\">\n      <th></th>\n      <th>location</th>\n      <th>maxtemp</th>\n    </tr>\n  </thead>\n  <tbody>\n    <tr>\n      <th>Albury</th>\n      <td>6.8</td>\n      <td>6.8</td>\n    </tr>\n    <tr>\n      <th>Albury</th>\n      <td>7.5</td>\n      <td>7.5</td>\n    </tr>\n    <tr>\n      <th>Albury</th>\n      <td>8.2</td>\n      <td>8.2</td>\n    </tr>\n    <tr>\n      <th>Albury</th>\n      <td>8.2</td>\n      <td>8.2</td>\n    </tr>\n    <tr>\n      <th>Albury</th>\n      <td>8.3</td>\n      <td>8.3</td>\n    </tr>\n    <tr>\n      <th>...</th>\n      <td>...</td>\n      <td>...</td>\n    </tr>\n    <tr>\n      <th>Albury</th>\n      <td>43.1</td>\n      <td>43.1</td>\n    </tr>\n    <tr>\n      <th>Albury</th>\n      <td>43.4</td>\n      <td>43.4</td>\n    </tr>\n    <tr>\n      <th>Albury</th>\n      <td>43.6</td>\n      <td>43.6</td>\n    </tr>\n    <tr>\n      <th>Albury</th>\n      <td>43.7</td>\n      <td>43.7</td>\n    </tr>\n    <tr>\n      <th>Albury</th>\n      <td>44.8</td>\n      <td>44.8</td>\n    </tr>\n  </tbody>\n</table>\n<p>3008 rows × 2 columns</p>\n</div>"
     },
     "metadata": {},
     "execution_count": 96
    }
   ],
   "source": [
    "alburYY={\n",
    "    \"location\":pd.Series(index=df.Location.values, data=df.MaxTemp.values),\n",
    "    \"maxtemp\":pd.Series(index=df.Location.values, data=df.MaxTemp.values)\n",
    "}\n",
    "cityal=pd.DataFrame(alburYY)\n",
    "cityal.loc['Albury'].sort_values(\"maxtemp\")\n"
   ]
  },
  {
   "cell_type": "code",
   "execution_count": 16,
   "metadata": {},
   "outputs": [
    {
     "output_type": "execute_result",
     "data": {
      "text/plain": [
       "Date                 0\n",
       "Location             0\n",
       "MinTemp           1485\n",
       "MaxTemp           1261\n",
       "Rainfall          3261\n",
       "Evaporation      62790\n",
       "Sunshine         69835\n",
       "WindGustDir      10326\n",
       "WindGustSpeed    10263\n",
       "WindDir9am       10566\n",
       "WindDir3pm        4228\n",
       "WindSpeed9am      1767\n",
       "WindSpeed3pm      3062\n",
       "Humidity9am       2654\n",
       "Humidity3pm       4507\n",
       "Pressure9am      15065\n",
       "Pressure3pm      15028\n",
       "Cloud9am         55888\n",
       "Cloud3pm         59358\n",
       "Temp9am           1767\n",
       "Temp3pm           3609\n",
       "RainToday         3261\n",
       "RainTomorrow      3267\n",
       "dtype: int64"
      ]
     },
     "metadata": {},
     "execution_count": 16
    }
   ],
   "source": [
    "df.isnull().sum()"
   ]
  },
  {
   "cell_type": "code",
   "execution_count": 43,
   "metadata": {},
   "outputs": [
    {
     "output_type": "execute_result",
     "data": {
      "text/plain": [
       "0           W\n",
       "1         WNW\n",
       "2         WSW\n",
       "3          NE\n",
       "4           W\n",
       "         ... \n",
       "145454      E\n",
       "145455      E\n",
       "145456    NNW\n",
       "145457      N\n",
       "145458     SE\n",
       "Name: WindGustDir, Length: 135134, dtype: object"
      ]
     },
     "metadata": {},
     "execution_count": 43
    }
   ],
   "source": [
    "df.dropna(subset = ['WindGustDir'],inplace=True)\n",
    "df.WindGustDir"
   ]
  },
  {
   "cell_type": "code",
   "execution_count": 195,
   "metadata": {},
   "outputs": [
    {
     "output_type": "execute_result",
     "data": {
      "text/plain": [
       "                Location  Sunshine  Evaporation\n",
       "0                 Albury       NaN          NaN\n",
       "3040       BadgerysCreek       NaN          NaN\n",
       "6049               Cobar      12.3         12.0\n",
       "9058        CoffsHarbour      11.4          7.4\n",
       "12067              Moree       9.3         12.2\n",
       "18115          NorahHead       NaN          NaN\n",
       "21119      NorfolkIsland      12.4          6.0\n",
       "24128            Penrith       NaN          NaN\n",
       "27167           Richmond       NaN          NaN\n",
       "31155             Sydney       1.2          2.2\n",
       "33520      SydneyAirport      12.9          9.8\n",
       "36529         WaggaWagga      13.5          9.8\n",
       "39538        Williamtown       9.2         11.6\n",
       "42549         Wollongong       NaN          NaN\n",
       "45587           Canberra       6.3          3.4\n",
       "49023        Tuggeranong       NaN          NaN\n",
       "52205        MountGinini       NaN          NaN\n",
       "55102           Ballarat       NaN          NaN\n",
       "58142            Bendigo       NaN          7.4\n",
       "61182               Sale      11.5         10.0\n",
       "64191   MelbourneAirport       8.8          5.6\n",
       "67200          Melbourne       7.0          2.8\n",
       "70393            Mildura      12.6          9.6\n",
       "73402               Nhil       NaN          NaN\n",
       "74980           Portland       6.5          4.8\n",
       "77989           Watsonia       8.8          5.6\n",
       "81061           Dartmoor       7.8          3.0\n",
       "84007           Brisbane       9.5          1.4\n",
       "87200             Cairns       6.4          4.0\n",
       "90240          GoldCoast       NaN          NaN\n",
       "93280         Townsville      11.6          4.6\n",
       "96320           Adelaide       2.6          1.6\n",
       "99513       MountGambier      10.6          5.0\n",
       "102553         Nuriootpa      12.2          NaN\n",
       "105562           Woomera       NaN          NaN\n",
       "111611       Witchcliffe       NaN          NaN\n",
       "114620        PearceRAAF      13.1          NaN\n",
       "117629      PerthAirport      13.1         11.6\n",
       "120638             Perth       9.1          0.8\n",
       "123831        SalmonGums       NaN          NaN\n",
       "126832           Walpole       NaN          NaN\n",
       "129838            Hobart       6.0          3.4\n",
       "133031        Launceston       NaN         15.2\n",
       "136071      AliceSprings       9.8         11.2\n",
       "139111            Darwin      11.0          4.4\n",
       "142304         Katherine       NaN          4.0\n",
       "143882             Uluru       NaN          NaN"
      ],
      "text/html": "<div>\n<style scoped>\n    .dataframe tbody tr th:only-of-type {\n        vertical-align: middle;\n    }\n\n    .dataframe tbody tr th {\n        vertical-align: top;\n    }\n\n    .dataframe thead th {\n        text-align: right;\n    }\n</style>\n<table border=\"1\" class=\"dataframe\">\n  <thead>\n    <tr style=\"text-align: right;\">\n      <th></th>\n      <th>Location</th>\n      <th>Sunshine</th>\n      <th>Evaporation</th>\n    </tr>\n  </thead>\n  <tbody>\n    <tr>\n      <th>0</th>\n      <td>Albury</td>\n      <td>NaN</td>\n      <td>NaN</td>\n    </tr>\n    <tr>\n      <th>3040</th>\n      <td>BadgerysCreek</td>\n      <td>NaN</td>\n      <td>NaN</td>\n    </tr>\n    <tr>\n      <th>6049</th>\n      <td>Cobar</td>\n      <td>12.3</td>\n      <td>12.0</td>\n    </tr>\n    <tr>\n      <th>9058</th>\n      <td>CoffsHarbour</td>\n      <td>11.4</td>\n      <td>7.4</td>\n    </tr>\n    <tr>\n      <th>12067</th>\n      <td>Moree</td>\n      <td>9.3</td>\n      <td>12.2</td>\n    </tr>\n    <tr>\n      <th>18115</th>\n      <td>NorahHead</td>\n      <td>NaN</td>\n      <td>NaN</td>\n    </tr>\n    <tr>\n      <th>21119</th>\n      <td>NorfolkIsland</td>\n      <td>12.4</td>\n      <td>6.0</td>\n    </tr>\n    <tr>\n      <th>24128</th>\n      <td>Penrith</td>\n      <td>NaN</td>\n      <td>NaN</td>\n    </tr>\n    <tr>\n      <th>27167</th>\n      <td>Richmond</td>\n      <td>NaN</td>\n      <td>NaN</td>\n    </tr>\n    <tr>\n      <th>31155</th>\n      <td>Sydney</td>\n      <td>1.2</td>\n      <td>2.2</td>\n    </tr>\n    <tr>\n      <th>33520</th>\n      <td>SydneyAirport</td>\n      <td>12.9</td>\n      <td>9.8</td>\n    </tr>\n    <tr>\n      <th>36529</th>\n      <td>WaggaWagga</td>\n      <td>13.5</td>\n      <td>9.8</td>\n    </tr>\n    <tr>\n      <th>39538</th>\n      <td>Williamtown</td>\n      <td>9.2</td>\n      <td>11.6</td>\n    </tr>\n    <tr>\n      <th>42549</th>\n      <td>Wollongong</td>\n      <td>NaN</td>\n      <td>NaN</td>\n    </tr>\n    <tr>\n      <th>45587</th>\n      <td>Canberra</td>\n      <td>6.3</td>\n      <td>3.4</td>\n    </tr>\n    <tr>\n      <th>49023</th>\n      <td>Tuggeranong</td>\n      <td>NaN</td>\n      <td>NaN</td>\n    </tr>\n    <tr>\n      <th>52205</th>\n      <td>MountGinini</td>\n      <td>NaN</td>\n      <td>NaN</td>\n    </tr>\n    <tr>\n      <th>55102</th>\n      <td>Ballarat</td>\n      <td>NaN</td>\n      <td>NaN</td>\n    </tr>\n    <tr>\n      <th>58142</th>\n      <td>Bendigo</td>\n      <td>NaN</td>\n      <td>7.4</td>\n    </tr>\n    <tr>\n      <th>61182</th>\n      <td>Sale</td>\n      <td>11.5</td>\n      <td>10.0</td>\n    </tr>\n    <tr>\n      <th>64191</th>\n      <td>MelbourneAirport</td>\n      <td>8.8</td>\n      <td>5.6</td>\n    </tr>\n    <tr>\n      <th>67200</th>\n      <td>Melbourne</td>\n      <td>7.0</td>\n      <td>2.8</td>\n    </tr>\n    <tr>\n      <th>70393</th>\n      <td>Mildura</td>\n      <td>12.6</td>\n      <td>9.6</td>\n    </tr>\n    <tr>\n      <th>73402</th>\n      <td>Nhil</td>\n      <td>NaN</td>\n      <td>NaN</td>\n    </tr>\n    <tr>\n      <th>74980</th>\n      <td>Portland</td>\n      <td>6.5</td>\n      <td>4.8</td>\n    </tr>\n    <tr>\n      <th>77989</th>\n      <td>Watsonia</td>\n      <td>8.8</td>\n      <td>5.6</td>\n    </tr>\n    <tr>\n      <th>81061</th>\n      <td>Dartmoor</td>\n      <td>7.8</td>\n      <td>3.0</td>\n    </tr>\n    <tr>\n      <th>84007</th>\n      <td>Brisbane</td>\n      <td>9.5</td>\n      <td>1.4</td>\n    </tr>\n    <tr>\n      <th>87200</th>\n      <td>Cairns</td>\n      <td>6.4</td>\n      <td>4.0</td>\n    </tr>\n    <tr>\n      <th>90240</th>\n      <td>GoldCoast</td>\n      <td>NaN</td>\n      <td>NaN</td>\n    </tr>\n    <tr>\n      <th>93280</th>\n      <td>Townsville</td>\n      <td>11.6</td>\n      <td>4.6</td>\n    </tr>\n    <tr>\n      <th>96320</th>\n      <td>Adelaide</td>\n      <td>2.6</td>\n      <td>1.6</td>\n    </tr>\n    <tr>\n      <th>99513</th>\n      <td>MountGambier</td>\n      <td>10.6</td>\n      <td>5.0</td>\n    </tr>\n    <tr>\n      <th>102553</th>\n      <td>Nuriootpa</td>\n      <td>12.2</td>\n      <td>NaN</td>\n    </tr>\n    <tr>\n      <th>105562</th>\n      <td>Woomera</td>\n      <td>NaN</td>\n      <td>NaN</td>\n    </tr>\n    <tr>\n      <th>111611</th>\n      <td>Witchcliffe</td>\n      <td>NaN</td>\n      <td>NaN</td>\n    </tr>\n    <tr>\n      <th>114620</th>\n      <td>PearceRAAF</td>\n      <td>13.1</td>\n      <td>NaN</td>\n    </tr>\n    <tr>\n      <th>117629</th>\n      <td>PerthAirport</td>\n      <td>13.1</td>\n      <td>11.6</td>\n    </tr>\n    <tr>\n      <th>120638</th>\n      <td>Perth</td>\n      <td>9.1</td>\n      <td>0.8</td>\n    </tr>\n    <tr>\n      <th>123831</th>\n      <td>SalmonGums</td>\n      <td>NaN</td>\n      <td>NaN</td>\n    </tr>\n    <tr>\n      <th>126832</th>\n      <td>Walpole</td>\n      <td>NaN</td>\n      <td>NaN</td>\n    </tr>\n    <tr>\n      <th>129838</th>\n      <td>Hobart</td>\n      <td>6.0</td>\n      <td>3.4</td>\n    </tr>\n    <tr>\n      <th>133031</th>\n      <td>Launceston</td>\n      <td>NaN</td>\n      <td>15.2</td>\n    </tr>\n    <tr>\n      <th>136071</th>\n      <td>AliceSprings</td>\n      <td>9.8</td>\n      <td>11.2</td>\n    </tr>\n    <tr>\n      <th>139111</th>\n      <td>Darwin</td>\n      <td>11.0</td>\n      <td>4.4</td>\n    </tr>\n    <tr>\n      <th>142304</th>\n      <td>Katherine</td>\n      <td>NaN</td>\n      <td>4.0</td>\n    </tr>\n    <tr>\n      <th>143882</th>\n      <td>Uluru</td>\n      <td>NaN</td>\n      <td>NaN</td>\n    </tr>\n  </tbody>\n</table>\n</div>"
     },
     "metadata": {},
     "execution_count": 195
    }
   ],
   "source": [
    "a=df.Location\n",
    "b=df.Sunshine\n",
    "c=df.Evaporation\n",
    "new=pd.DataFrame({\n",
    "    \"Location\":a,\n",
    "    \"Sunshine\":b,\n",
    "    \"Evaporation\":c})\n",
    "new.drop_duplicates(subset=['Location'])\n"
   ]
  },
  {
   "cell_type": "code",
   "execution_count": 214,
   "metadata": {},
   "outputs": [
    {
     "output_type": "execute_result",
     "data": {
      "text/plain": [
       "6.4"
      ]
     },
     "metadata": {},
     "execution_count": 214
    }
   ],
   "source": [
    "z=df[\"Location\"]==\"Darwin\" \n",
    "df[z].Evaporation.max()\n",
    "df[z].Evaporation.min()\n",
    "df[z].Evaporation.median()"
   ]
  },
  {
   "cell_type": "code",
   "execution_count": 168,
   "metadata": {},
   "outputs": [
    {
     "output_type": "execute_result",
     "data": {
      "text/plain": [
       "                    MinTemp    MaxTemp  Rainfall  Evaporation  Sunshine  \\\n",
       "Location                                                                  \n",
       "Adelaide          12.571487  22.891254  1.576076     5.757117  7.742417   \n",
       "Albury             9.518588  22.629555  1.904552          NaN       NaN   \n",
       "AliceSprings      13.155254  29.281325  0.869484     9.042405  9.592820   \n",
       "BadgerysCreek     11.135741  24.014949  2.215406          NaN       NaN   \n",
       "Ballarat           7.348670  18.267930  1.706369          NaN       NaN   \n",
       "Bendigo            8.611841  21.625609  1.631586     3.835616       NaN   \n",
       "Brisbane          16.414204  26.436043  3.119424     5.406064  8.069265   \n",
       "Cairns            21.225099  29.559550  5.701852     6.244197  7.577948   \n",
       "Canberra           6.670100  20.731579  1.745920     4.134289  7.419064   \n",
       "Cobar             13.131412  25.853488  1.132655     6.751995  8.693236   \n",
       "CoffsHarbour      14.522998  23.971493  4.990985     3.912857  7.353320   \n",
       "Dartmoor           8.620518  19.696769  2.150272     3.354226  6.419215   \n",
       "Darwin            23.190022  32.538259  5.076454     6.315255  8.522194   \n",
       "GoldCoast         17.287324  25.713189  3.737301          NaN       NaN   \n",
       "Hobart             9.080883  17.858517  1.604739     3.599146  6.574842   \n",
       "Katherine         20.546272  34.915762  3.239856     7.325926       NaN   \n",
       "Launceston         7.858822  18.983062  2.016483     6.190714       NaN   \n",
       "Melbourne         11.770359  20.760489  1.874019     4.642884  6.387980   \n",
       "MelbourneAirport   9.962558  20.478958  1.456045     4.634437  6.378750   \n",
       "Mildura           10.738782  24.848202  0.945370     5.938816  8.468361   \n",
       "Moree             12.909625  26.975060  1.612936     7.639713  8.917212   \n",
       "MountGambier       8.820797  19.818882  2.078296     3.425587  6.505339   \n",
       "MountGinini        3.487122  11.506027  3.317951          NaN       NaN   \n",
       "Nhil               8.991959  22.394576  0.933973          NaN       NaN   \n",
       "NorahHead         15.346429  22.583152  3.388950          NaN       NaN   \n",
       "NorfolkIsland     16.868073  21.827935  3.132717     4.738062  7.013740   \n",
       "Nuriootpa          9.404508  21.751250  1.380203     5.098451  7.673709   \n",
       "PearceRAAF        12.295443  26.052760  1.691525          NaN  8.805317   \n",
       "Penrith           12.537888  24.733782  2.176233          NaN       NaN   \n",
       "Perth             12.921769  25.037402  1.905144     5.606527  8.786616   \n",
       "PerthAirport      12.593723  25.541714  1.744988     5.671168  8.796114   \n",
       "Portland           9.586485  18.047209  2.528629     3.416822  6.495462   \n",
       "Richmond          11.333866  24.455586  2.130970     5.247180       NaN   \n",
       "Sale               8.595363  20.321583  1.523612     3.825179  6.689749   \n",
       "SalmonGums         9.376693  24.288645  1.037027          NaN       NaN   \n",
       "Sydney            15.062213  23.292758  3.477445     5.317841  7.194377   \n",
       "SydneyAirport     14.893845  23.394050  2.984631     5.268154  7.193578   \n",
       "Townsville        20.412931  29.361485  3.455083     7.198736  8.465554   \n",
       "Tuggeranong        7.235581  20.771295  2.165203          NaN       NaN   \n",
       "Uluru             14.399533  30.389633  0.714555          NaN       NaN   \n",
       "WaggaWagga         9.628212  23.046863  1.711737     5.191840  8.208085   \n",
       "Walpole           11.837917  20.491127  2.865308          NaN       NaN   \n",
       "Watsonia          10.115729  20.858445  1.842159     4.631863  6.369438   \n",
       "Williamtown       12.774443  23.985346  3.621076     6.786268  7.139060   \n",
       "Witchcliffe       10.786932  21.685407  2.910366          NaN       NaN   \n",
       "Wollongong        14.919289  21.445166  3.611757          NaN       NaN   \n",
       "Woomera           13.410819  26.639327  0.496816    10.200118  9.042980   \n",
       "\n",
       "                  WindGustSpeed  WindSpeed9am  WindSpeed3pm  Humidity9am  \\\n",
       "Location                                                                   \n",
       "Adelaide              36.499211      9.954804     15.470774    59.716182   \n",
       "Albury                32.977394      8.209720     14.385358    74.101198   \n",
       "AliceSprings          40.531281     14.754603     18.098092    39.542015   \n",
       "BadgerysCreek         33.600409      8.053590     13.997940    76.932530   \n",
       "Ballarat              44.982719     19.976024     22.770792    81.801338   \n",
       "Bendigo               38.844948     12.945630     17.173173    70.579158   \n",
       "Brisbane              28.212881      6.950508     10.993331    64.064762   \n",
       "Cairns                38.026150     15.902649     21.907616    69.937086   \n",
       "Canberra              40.071682     10.444228     19.082444    73.814206   \n",
       "Cobar                 36.750590     14.679717     15.143965    55.148317   \n",
       "CoffsHarbour          39.227925     15.273139     21.186011    68.161815   \n",
       "Dartmoor              38.898299     10.815458     17.949643    85.218739   \n",
       "Darwin                40.579917     15.043561     20.848061    68.414812   \n",
       "GoldCoast             42.476370     19.331962     25.831619    66.218213   \n",
       "Hobart                47.530915     16.291167     19.818870    65.650316   \n",
       "Katherine             38.771465     12.100129     15.783959    63.863358   \n",
       "Launceston            35.625749      8.471547     15.555333    79.450732   \n",
       "Melbourne             45.610255     19.091281     22.071721    67.577308   \n",
       "MelbourneAirport      46.919172     20.244905     23.057114    70.139317   \n",
       "Mildura               37.168775     14.000999     16.695305    64.088637   \n",
       "Moree                 39.889116     18.089170     16.832251    61.297916   \n",
       "MountGambier          42.853030     17.496651     22.372194    75.525856   \n",
       "MountGinini           46.253951     15.807078     14.979111    77.152479   \n",
       "Nhil                  42.542438     16.435227     20.960434    73.059349   \n",
       "NorahHead             42.183051     13.866008     20.983657    74.592087   \n",
       "NorfolkIsland         42.601889     20.171119     21.871414    70.779655   \n",
       "Nuriootpa             40.681081     14.239513     18.161072    66.731707   \n",
       "PearceRAAF            43.579958     16.044787     20.362299    60.854043   \n",
       "Penrith               31.807330      6.345997     11.967938    75.822859   \n",
       "Perth                 34.882999     10.697302     14.516939    62.677572   \n",
       "PerthAirport          44.201822     17.760297     21.283592    58.761390   \n",
       "Portland              42.059852     16.316852     20.769179    78.741715   \n",
       "Richmond              34.872290      7.016769     14.875299    76.874355   \n",
       "Sale                  42.479777     14.335311     22.307853    78.699895   \n",
       "SalmonGums            39.748372     16.293269     17.314452    62.845520   \n",
       "Sydney                41.757589     15.265740     19.739809    67.602704   \n",
       "SydneyAirport         47.234280     18.559689     25.773081    64.735453   \n",
       "Townsville            38.840570     15.233831     24.259529    63.931720   \n",
       "Tuggeranong           35.215883      7.641560     14.882590    72.797447   \n",
       "Uluru                 41.268373     17.610928     16.986868    42.254785   \n",
       "WaggaWagga            36.648105     12.881248     16.207648    67.833781   \n",
       "Walpole               39.829640     13.924143     17.231809    76.170766   \n",
       "Watsonia              38.059219      9.922585     15.199260    78.364435   \n",
       "Williamtown           41.681518     16.419861     22.242688    71.920153   \n",
       "Witchcliffe           40.083025     13.959946     19.168124    71.386637   \n",
       "Wollongong            45.690842     16.637222     21.960685    67.649158   \n",
       "Woomera               44.156566     20.098720     20.707786    53.012175   \n",
       "\n",
       "                  Humidity3pm  Pressure9am  Pressure3pm  Cloud9am  Cloud3pm  \\\n",
       "Location                                                                      \n",
       "Adelaide            44.866941  1018.758665  1016.798356       NaN       NaN   \n",
       "Albury              47.907912  1018.366190  1015.752959  6.393916  5.410148   \n",
       "AliceSprings        24.035846  1016.684639  1012.866812  2.838528  3.242597   \n",
       "BadgerysCreek       51.426309  1018.469363  1015.657849       NaN       NaN   \n",
       "Ballarat            59.051948  1017.872715  1016.289983  5.810219  6.282246   \n",
       "Bendigo             46.516011  1017.991296  1015.831417  4.418262  4.867384   \n",
       "Brisbane            53.917250  1018.252094  1015.119022  3.920025  3.886349   \n",
       "Cairns              61.751738  1014.152351  1011.098444  4.561036  4.441145   \n",
       "Canberra            46.445272  1019.003108  1016.256796  4.888889  4.802676   \n",
       "Cobar               33.881837  1017.994375  1015.327909  3.311223  3.861215   \n",
       "CoffsHarbour        62.380447  1018.245185  1015.847220  4.324651  4.500229   \n",
       "Dartmoor            62.439885  1018.003777  1016.512628       NaN       NaN   \n",
       "Darwin              51.699301  1011.911825  1008.365130  4.323268  4.296025   \n",
       "GoldCoast           62.824055  1017.981747  1015.278219       NaN       NaN   \n",
       "Hobart              52.974668  1014.507447  1012.941338  4.845771  4.963591   \n",
       "Katherine           42.824897  1012.786886  1008.483840  2.587417  3.199762   \n",
       "Launceston          57.240506  1015.647558  1013.722920  6.315716  5.719346   \n",
       "Melbourne           51.158990  1017.642868  1015.787500  5.311132  5.336386   \n",
       "MelbourneAirport    51.152429  1018.102071  1016.295090  5.246827  5.264952   \n",
       "Mildura             35.402000  1018.765133  1016.255929  3.384800  3.922996   \n",
       "Moree               35.663363  1018.329512  1014.943432  3.340373  3.961901   \n",
       "MountGambier        57.378986  1017.967861  1016.397587  5.518377  5.478668   \n",
       "MountGinini         70.062107          NaN          NaN       NaN       NaN   \n",
       "Nhil                44.942565  1018.537779  1016.393810       NaN       NaN   \n",
       "NorahHead           67.488079  1018.262377  1016.012033       NaN       NaN   \n",
       "NorfolkIsland       67.832265  1017.626928  1015.886703  5.025508  4.849725   \n",
       "Nuriootpa           45.364530  1018.870118  1016.746479  4.682299  4.875965   \n",
       "PearceRAAF          42.120575  1017.600490  1015.087272  3.864047  4.047118   \n",
       "Penrith             49.006518          NaN          NaN       NaN       NaN   \n",
       "Perth               46.906004  1017.778820  1015.412923  3.381984  3.467337   \n",
       "PerthAirport        41.927414  1017.851992  1015.332917  3.379264  3.451504   \n",
       "Portland            65.988855  1017.709622  1016.641734  6.340086  6.075295   \n",
       "Richmond            49.002065  1018.695907  1015.626298  6.249169  5.509499   \n",
       "Sale                56.201893  1017.723214  1015.801296  5.329070  5.081528   \n",
       "SalmonGums          40.778922          NaN          NaN       NaN       NaN   \n",
       "Sydney              54.291630  1018.302441  1015.980697  4.233523  4.184912   \n",
       "SydneyAirport       53.872376  1018.394002  1015.995533  4.279282  4.276200   \n",
       "Townsville          57.387140  1015.166788  1011.906563  4.290628  4.008727   \n",
       "Tuggeranong         47.124916  1018.525386  1015.670338       NaN       NaN   \n",
       "Uluru               23.838477  1017.145855  1013.345502  5.567568  4.832911   \n",
       "WaggaWagga          42.575310  1018.490876  1015.837538  3.857505  4.191952   \n",
       "Walpole             66.325710  1017.869830  1016.228933       NaN       NaN   \n",
       "Watsonia            54.779946  1018.057523  1016.112483  5.246972  5.266577   \n",
       "Williamtown         54.057511  1018.477119  1015.989892  4.711505  4.493398   \n",
       "Witchcliffe         57.826103  1018.385302  1016.727340       NaN       NaN   \n",
       "Wollongong          65.139832  1018.152821  1016.063471  6.219880  5.857854   \n",
       "Woomera             28.356876  1018.568959  1015.908570  2.528891  2.897103   \n",
       "\n",
       "                    Temp9am    Temp3pm  \n",
       "Location                                \n",
       "Adelaide          16.925284  21.552038  \n",
       "Albury            14.347304  21.361802  \n",
       "AliceSprings      21.365072  28.043254  \n",
       "BadgerysCreek     16.567467  22.513928  \n",
       "Ballarat          11.658253  16.772537  \n",
       "Bendigo           13.850317  20.251734  \n",
       "Brisbane          21.822317  24.734087  \n",
       "Cairns            25.821921  27.911188  \n",
       "Canberra          12.486515  19.246330  \n",
       "Cobar             18.102632  24.517262  \n",
       "CoffsHarbour      20.191770  22.372951  \n",
       "Dartmoor          12.588632  18.181354  \n",
       "Darwin            27.170321  31.087095  \n",
       "GoldCoast         22.308973  23.712466  \n",
       "Hobart            12.460271  16.166835  \n",
       "Katherine         26.634195  33.551130  \n",
       "Launceston        12.050266  17.709860  \n",
       "Melbourne         14.580467  19.263822  \n",
       "MelbourneAirport  14.110354  18.947027  \n",
       "Mildura           15.536563  23.434266  \n",
       "Moree             18.875708  25.678028  \n",
       "MountGambier      13.777804  18.170476  \n",
       "MountGinini        6.787454  10.086023  \n",
       "Nhil              13.374091  20.863114  \n",
       "NorahHead         18.463677  20.760368  \n",
       "NorfolkIsland     19.777492  20.471178  \n",
       "Nuriootpa         14.886270  20.358917  \n",
       "PearceRAAF        18.851784  24.493833  \n",
       "Penrith           16.952557  23.329386  \n",
       "Perth             18.574122  23.463331  \n",
       "PerthAirport      18.792845  24.092944  \n",
       "Portland          13.189276  16.501621  \n",
       "Richmond          16.551231  23.124692  \n",
       "Sale              13.464759  18.818940  \n",
       "SalmonGums        17.080398  22.708857  \n",
       "Sydney            18.065421  21.748349  \n",
       "SydneyAirport     18.550085  21.785188  \n",
       "Townsville        25.632847  27.765462  \n",
       "Tuggeranong       12.571045  19.438480  \n",
       "Uluru             20.996568  29.071832  \n",
       "WaggaWagga        14.940054  21.766152  \n",
       "Walpole           15.944822  18.591719  \n",
       "Watsonia          13.748276  19.363694  \n",
       "Williamtown       18.068780  22.475279  \n",
       "Witchcliffe       16.550151  19.806052  \n",
       "Wollongong        18.173266  19.915692  \n",
       "Woomera           17.974806  25.244879  "
      ],
      "text/html": "<div>\n<style scoped>\n    .dataframe tbody tr th:only-of-type {\n        vertical-align: middle;\n    }\n\n    .dataframe tbody tr th {\n        vertical-align: top;\n    }\n\n    .dataframe thead th {\n        text-align: right;\n    }\n</style>\n<table border=\"1\" class=\"dataframe\">\n  <thead>\n    <tr style=\"text-align: right;\">\n      <th></th>\n      <th>MinTemp</th>\n      <th>MaxTemp</th>\n      <th>Rainfall</th>\n      <th>Evaporation</th>\n      <th>Sunshine</th>\n      <th>WindGustSpeed</th>\n      <th>WindSpeed9am</th>\n      <th>WindSpeed3pm</th>\n      <th>Humidity9am</th>\n      <th>Humidity3pm</th>\n      <th>Pressure9am</th>\n      <th>Pressure3pm</th>\n      <th>Cloud9am</th>\n      <th>Cloud3pm</th>\n      <th>Temp9am</th>\n      <th>Temp3pm</th>\n    </tr>\n    <tr>\n      <th>Location</th>\n      <th></th>\n      <th></th>\n      <th></th>\n      <th></th>\n      <th></th>\n      <th></th>\n      <th></th>\n      <th></th>\n      <th></th>\n      <th></th>\n      <th></th>\n      <th></th>\n      <th></th>\n      <th></th>\n      <th></th>\n      <th></th>\n    </tr>\n  </thead>\n  <tbody>\n    <tr>\n      <th>Adelaide</th>\n      <td>12.571487</td>\n      <td>22.891254</td>\n      <td>1.576076</td>\n      <td>5.757117</td>\n      <td>7.742417</td>\n      <td>36.499211</td>\n      <td>9.954804</td>\n      <td>15.470774</td>\n      <td>59.716182</td>\n      <td>44.866941</td>\n      <td>1018.758665</td>\n      <td>1016.798356</td>\n      <td>NaN</td>\n      <td>NaN</td>\n      <td>16.925284</td>\n      <td>21.552038</td>\n    </tr>\n    <tr>\n      <th>Albury</th>\n      <td>9.518588</td>\n      <td>22.629555</td>\n      <td>1.904552</td>\n      <td>NaN</td>\n      <td>NaN</td>\n      <td>32.977394</td>\n      <td>8.209720</td>\n      <td>14.385358</td>\n      <td>74.101198</td>\n      <td>47.907912</td>\n      <td>1018.366190</td>\n      <td>1015.752959</td>\n      <td>6.393916</td>\n      <td>5.410148</td>\n      <td>14.347304</td>\n      <td>21.361802</td>\n    </tr>\n    <tr>\n      <th>AliceSprings</th>\n      <td>13.155254</td>\n      <td>29.281325</td>\n      <td>0.869484</td>\n      <td>9.042405</td>\n      <td>9.592820</td>\n      <td>40.531281</td>\n      <td>14.754603</td>\n      <td>18.098092</td>\n      <td>39.542015</td>\n      <td>24.035846</td>\n      <td>1016.684639</td>\n      <td>1012.866812</td>\n      <td>2.838528</td>\n      <td>3.242597</td>\n      <td>21.365072</td>\n      <td>28.043254</td>\n    </tr>\n    <tr>\n      <th>BadgerysCreek</th>\n      <td>11.135741</td>\n      <td>24.014949</td>\n      <td>2.215406</td>\n      <td>NaN</td>\n      <td>NaN</td>\n      <td>33.600409</td>\n      <td>8.053590</td>\n      <td>13.997940</td>\n      <td>76.932530</td>\n      <td>51.426309</td>\n      <td>1018.469363</td>\n      <td>1015.657849</td>\n      <td>NaN</td>\n      <td>NaN</td>\n      <td>16.567467</td>\n      <td>22.513928</td>\n    </tr>\n    <tr>\n      <th>Ballarat</th>\n      <td>7.348670</td>\n      <td>18.267930</td>\n      <td>1.706369</td>\n      <td>NaN</td>\n      <td>NaN</td>\n      <td>44.982719</td>\n      <td>19.976024</td>\n      <td>22.770792</td>\n      <td>81.801338</td>\n      <td>59.051948</td>\n      <td>1017.872715</td>\n      <td>1016.289983</td>\n      <td>5.810219</td>\n      <td>6.282246</td>\n      <td>11.658253</td>\n      <td>16.772537</td>\n    </tr>\n    <tr>\n      <th>Bendigo</th>\n      <td>8.611841</td>\n      <td>21.625609</td>\n      <td>1.631586</td>\n      <td>3.835616</td>\n      <td>NaN</td>\n      <td>38.844948</td>\n      <td>12.945630</td>\n      <td>17.173173</td>\n      <td>70.579158</td>\n      <td>46.516011</td>\n      <td>1017.991296</td>\n      <td>1015.831417</td>\n      <td>4.418262</td>\n      <td>4.867384</td>\n      <td>13.850317</td>\n      <td>20.251734</td>\n    </tr>\n    <tr>\n      <th>Brisbane</th>\n      <td>16.414204</td>\n      <td>26.436043</td>\n      <td>3.119424</td>\n      <td>5.406064</td>\n      <td>8.069265</td>\n      <td>28.212881</td>\n      <td>6.950508</td>\n      <td>10.993331</td>\n      <td>64.064762</td>\n      <td>53.917250</td>\n      <td>1018.252094</td>\n      <td>1015.119022</td>\n      <td>3.920025</td>\n      <td>3.886349</td>\n      <td>21.822317</td>\n      <td>24.734087</td>\n    </tr>\n    <tr>\n      <th>Cairns</th>\n      <td>21.225099</td>\n      <td>29.559550</td>\n      <td>5.701852</td>\n      <td>6.244197</td>\n      <td>7.577948</td>\n      <td>38.026150</td>\n      <td>15.902649</td>\n      <td>21.907616</td>\n      <td>69.937086</td>\n      <td>61.751738</td>\n      <td>1014.152351</td>\n      <td>1011.098444</td>\n      <td>4.561036</td>\n      <td>4.441145</td>\n      <td>25.821921</td>\n      <td>27.911188</td>\n    </tr>\n    <tr>\n      <th>Canberra</th>\n      <td>6.670100</td>\n      <td>20.731579</td>\n      <td>1.745920</td>\n      <td>4.134289</td>\n      <td>7.419064</td>\n      <td>40.071682</td>\n      <td>10.444228</td>\n      <td>19.082444</td>\n      <td>73.814206</td>\n      <td>46.445272</td>\n      <td>1019.003108</td>\n      <td>1016.256796</td>\n      <td>4.888889</td>\n      <td>4.802676</td>\n      <td>12.486515</td>\n      <td>19.246330</td>\n    </tr>\n    <tr>\n      <th>Cobar</th>\n      <td>13.131412</td>\n      <td>25.853488</td>\n      <td>1.132655</td>\n      <td>6.751995</td>\n      <td>8.693236</td>\n      <td>36.750590</td>\n      <td>14.679717</td>\n      <td>15.143965</td>\n      <td>55.148317</td>\n      <td>33.881837</td>\n      <td>1017.994375</td>\n      <td>1015.327909</td>\n      <td>3.311223</td>\n      <td>3.861215</td>\n      <td>18.102632</td>\n      <td>24.517262</td>\n    </tr>\n    <tr>\n      <th>CoffsHarbour</th>\n      <td>14.522998</td>\n      <td>23.971493</td>\n      <td>4.990985</td>\n      <td>3.912857</td>\n      <td>7.353320</td>\n      <td>39.227925</td>\n      <td>15.273139</td>\n      <td>21.186011</td>\n      <td>68.161815</td>\n      <td>62.380447</td>\n      <td>1018.245185</td>\n      <td>1015.847220</td>\n      <td>4.324651</td>\n      <td>4.500229</td>\n      <td>20.191770</td>\n      <td>22.372951</td>\n    </tr>\n    <tr>\n      <th>Dartmoor</th>\n      <td>8.620518</td>\n      <td>19.696769</td>\n      <td>2.150272</td>\n      <td>3.354226</td>\n      <td>6.419215</td>\n      <td>38.898299</td>\n      <td>10.815458</td>\n      <td>17.949643</td>\n      <td>85.218739</td>\n      <td>62.439885</td>\n      <td>1018.003777</td>\n      <td>1016.512628</td>\n      <td>NaN</td>\n      <td>NaN</td>\n      <td>12.588632</td>\n      <td>18.181354</td>\n    </tr>\n    <tr>\n      <th>Darwin</th>\n      <td>23.190022</td>\n      <td>32.538259</td>\n      <td>5.076454</td>\n      <td>6.315255</td>\n      <td>8.522194</td>\n      <td>40.579917</td>\n      <td>15.043561</td>\n      <td>20.848061</td>\n      <td>68.414812</td>\n      <td>51.699301</td>\n      <td>1011.911825</td>\n      <td>1008.365130</td>\n      <td>4.323268</td>\n      <td>4.296025</td>\n      <td>27.170321</td>\n      <td>31.087095</td>\n    </tr>\n    <tr>\n      <th>GoldCoast</th>\n      <td>17.287324</td>\n      <td>25.713189</td>\n      <td>3.737301</td>\n      <td>NaN</td>\n      <td>NaN</td>\n      <td>42.476370</td>\n      <td>19.331962</td>\n      <td>25.831619</td>\n      <td>66.218213</td>\n      <td>62.824055</td>\n      <td>1017.981747</td>\n      <td>1015.278219</td>\n      <td>NaN</td>\n      <td>NaN</td>\n      <td>22.308973</td>\n      <td>23.712466</td>\n    </tr>\n    <tr>\n      <th>Hobart</th>\n      <td>9.080883</td>\n      <td>17.858517</td>\n      <td>1.604739</td>\n      <td>3.599146</td>\n      <td>6.574842</td>\n      <td>47.530915</td>\n      <td>16.291167</td>\n      <td>19.818870</td>\n      <td>65.650316</td>\n      <td>52.974668</td>\n      <td>1014.507447</td>\n      <td>1012.941338</td>\n      <td>4.845771</td>\n      <td>4.963591</td>\n      <td>12.460271</td>\n      <td>16.166835</td>\n    </tr>\n    <tr>\n      <th>Katherine</th>\n      <td>20.546272</td>\n      <td>34.915762</td>\n      <td>3.239856</td>\n      <td>7.325926</td>\n      <td>NaN</td>\n      <td>38.771465</td>\n      <td>12.100129</td>\n      <td>15.783959</td>\n      <td>63.863358</td>\n      <td>42.824897</td>\n      <td>1012.786886</td>\n      <td>1008.483840</td>\n      <td>2.587417</td>\n      <td>3.199762</td>\n      <td>26.634195</td>\n      <td>33.551130</td>\n    </tr>\n    <tr>\n      <th>Launceston</th>\n      <td>7.858822</td>\n      <td>18.983062</td>\n      <td>2.016483</td>\n      <td>6.190714</td>\n      <td>NaN</td>\n      <td>35.625749</td>\n      <td>8.471547</td>\n      <td>15.555333</td>\n      <td>79.450732</td>\n      <td>57.240506</td>\n      <td>1015.647558</td>\n      <td>1013.722920</td>\n      <td>6.315716</td>\n      <td>5.719346</td>\n      <td>12.050266</td>\n      <td>17.709860</td>\n    </tr>\n    <tr>\n      <th>Melbourne</th>\n      <td>11.770359</td>\n      <td>20.760489</td>\n      <td>1.874019</td>\n      <td>4.642884</td>\n      <td>6.387980</td>\n      <td>45.610255</td>\n      <td>19.091281</td>\n      <td>22.071721</td>\n      <td>67.577308</td>\n      <td>51.158990</td>\n      <td>1017.642868</td>\n      <td>1015.787500</td>\n      <td>5.311132</td>\n      <td>5.336386</td>\n      <td>14.580467</td>\n      <td>19.263822</td>\n    </tr>\n    <tr>\n      <th>MelbourneAirport</th>\n      <td>9.962558</td>\n      <td>20.478958</td>\n      <td>1.456045</td>\n      <td>4.634437</td>\n      <td>6.378750</td>\n      <td>46.919172</td>\n      <td>20.244905</td>\n      <td>23.057114</td>\n      <td>70.139317</td>\n      <td>51.152429</td>\n      <td>1018.102071</td>\n      <td>1016.295090</td>\n      <td>5.246827</td>\n      <td>5.264952</td>\n      <td>14.110354</td>\n      <td>18.947027</td>\n    </tr>\n    <tr>\n      <th>Mildura</th>\n      <td>10.738782</td>\n      <td>24.848202</td>\n      <td>0.945370</td>\n      <td>5.938816</td>\n      <td>8.468361</td>\n      <td>37.168775</td>\n      <td>14.000999</td>\n      <td>16.695305</td>\n      <td>64.088637</td>\n      <td>35.402000</td>\n      <td>1018.765133</td>\n      <td>1016.255929</td>\n      <td>3.384800</td>\n      <td>3.922996</td>\n      <td>15.536563</td>\n      <td>23.434266</td>\n    </tr>\n    <tr>\n      <th>Moree</th>\n      <td>12.909625</td>\n      <td>26.975060</td>\n      <td>1.612936</td>\n      <td>7.639713</td>\n      <td>8.917212</td>\n      <td>39.889116</td>\n      <td>18.089170</td>\n      <td>16.832251</td>\n      <td>61.297916</td>\n      <td>35.663363</td>\n      <td>1018.329512</td>\n      <td>1014.943432</td>\n      <td>3.340373</td>\n      <td>3.961901</td>\n      <td>18.875708</td>\n      <td>25.678028</td>\n    </tr>\n    <tr>\n      <th>MountGambier</th>\n      <td>8.820797</td>\n      <td>19.818882</td>\n      <td>2.078296</td>\n      <td>3.425587</td>\n      <td>6.505339</td>\n      <td>42.853030</td>\n      <td>17.496651</td>\n      <td>22.372194</td>\n      <td>75.525856</td>\n      <td>57.378986</td>\n      <td>1017.967861</td>\n      <td>1016.397587</td>\n      <td>5.518377</td>\n      <td>5.478668</td>\n      <td>13.777804</td>\n      <td>18.170476</td>\n    </tr>\n    <tr>\n      <th>MountGinini</th>\n      <td>3.487122</td>\n      <td>11.506027</td>\n      <td>3.317951</td>\n      <td>NaN</td>\n      <td>NaN</td>\n      <td>46.253951</td>\n      <td>15.807078</td>\n      <td>14.979111</td>\n      <td>77.152479</td>\n      <td>70.062107</td>\n      <td>NaN</td>\n      <td>NaN</td>\n      <td>NaN</td>\n      <td>NaN</td>\n      <td>6.787454</td>\n      <td>10.086023</td>\n    </tr>\n    <tr>\n      <th>Nhil</th>\n      <td>8.991959</td>\n      <td>22.394576</td>\n      <td>0.933973</td>\n      <td>NaN</td>\n      <td>NaN</td>\n      <td>42.542438</td>\n      <td>16.435227</td>\n      <td>20.960434</td>\n      <td>73.059349</td>\n      <td>44.942565</td>\n      <td>1018.537779</td>\n      <td>1016.393810</td>\n      <td>NaN</td>\n      <td>NaN</td>\n      <td>13.374091</td>\n      <td>20.863114</td>\n    </tr>\n    <tr>\n      <th>NorahHead</th>\n      <td>15.346429</td>\n      <td>22.583152</td>\n      <td>3.388950</td>\n      <td>NaN</td>\n      <td>NaN</td>\n      <td>42.183051</td>\n      <td>13.866008</td>\n      <td>20.983657</td>\n      <td>74.592087</td>\n      <td>67.488079</td>\n      <td>1018.262377</td>\n      <td>1016.012033</td>\n      <td>NaN</td>\n      <td>NaN</td>\n      <td>18.463677</td>\n      <td>20.760368</td>\n    </tr>\n    <tr>\n      <th>NorfolkIsland</th>\n      <td>16.868073</td>\n      <td>21.827935</td>\n      <td>3.132717</td>\n      <td>4.738062</td>\n      <td>7.013740</td>\n      <td>42.601889</td>\n      <td>20.171119</td>\n      <td>21.871414</td>\n      <td>70.779655</td>\n      <td>67.832265</td>\n      <td>1017.626928</td>\n      <td>1015.886703</td>\n      <td>5.025508</td>\n      <td>4.849725</td>\n      <td>19.777492</td>\n      <td>20.471178</td>\n    </tr>\n    <tr>\n      <th>Nuriootpa</th>\n      <td>9.404508</td>\n      <td>21.751250</td>\n      <td>1.380203</td>\n      <td>5.098451</td>\n      <td>7.673709</td>\n      <td>40.681081</td>\n      <td>14.239513</td>\n      <td>18.161072</td>\n      <td>66.731707</td>\n      <td>45.364530</td>\n      <td>1018.870118</td>\n      <td>1016.746479</td>\n      <td>4.682299</td>\n      <td>4.875965</td>\n      <td>14.886270</td>\n      <td>20.358917</td>\n    </tr>\n    <tr>\n      <th>PearceRAAF</th>\n      <td>12.295443</td>\n      <td>26.052760</td>\n      <td>1.691525</td>\n      <td>NaN</td>\n      <td>8.805317</td>\n      <td>43.579958</td>\n      <td>16.044787</td>\n      <td>20.362299</td>\n      <td>60.854043</td>\n      <td>42.120575</td>\n      <td>1017.600490</td>\n      <td>1015.087272</td>\n      <td>3.864047</td>\n      <td>4.047118</td>\n      <td>18.851784</td>\n      <td>24.493833</td>\n    </tr>\n    <tr>\n      <th>Penrith</th>\n      <td>12.537888</td>\n      <td>24.733782</td>\n      <td>2.176233</td>\n      <td>NaN</td>\n      <td>NaN</td>\n      <td>31.807330</td>\n      <td>6.345997</td>\n      <td>11.967938</td>\n      <td>75.822859</td>\n      <td>49.006518</td>\n      <td>NaN</td>\n      <td>NaN</td>\n      <td>NaN</td>\n      <td>NaN</td>\n      <td>16.952557</td>\n      <td>23.329386</td>\n    </tr>\n    <tr>\n      <th>Perth</th>\n      <td>12.921769</td>\n      <td>25.037402</td>\n      <td>1.905144</td>\n      <td>5.606527</td>\n      <td>8.786616</td>\n      <td>34.882999</td>\n      <td>10.697302</td>\n      <td>14.516939</td>\n      <td>62.677572</td>\n      <td>46.906004</td>\n      <td>1017.778820</td>\n      <td>1015.412923</td>\n      <td>3.381984</td>\n      <td>3.467337</td>\n      <td>18.574122</td>\n      <td>23.463331</td>\n    </tr>\n    <tr>\n      <th>PerthAirport</th>\n      <td>12.593723</td>\n      <td>25.541714</td>\n      <td>1.744988</td>\n      <td>5.671168</td>\n      <td>8.796114</td>\n      <td>44.201822</td>\n      <td>17.760297</td>\n      <td>21.283592</td>\n      <td>58.761390</td>\n      <td>41.927414</td>\n      <td>1017.851992</td>\n      <td>1015.332917</td>\n      <td>3.379264</td>\n      <td>3.451504</td>\n      <td>18.792845</td>\n      <td>24.092944</td>\n    </tr>\n    <tr>\n      <th>Portland</th>\n      <td>9.586485</td>\n      <td>18.047209</td>\n      <td>2.528629</td>\n      <td>3.416822</td>\n      <td>6.495462</td>\n      <td>42.059852</td>\n      <td>16.316852</td>\n      <td>20.769179</td>\n      <td>78.741715</td>\n      <td>65.988855</td>\n      <td>1017.709622</td>\n      <td>1016.641734</td>\n      <td>6.340086</td>\n      <td>6.075295</td>\n      <td>13.189276</td>\n      <td>16.501621</td>\n    </tr>\n    <tr>\n      <th>Richmond</th>\n      <td>11.333866</td>\n      <td>24.455586</td>\n      <td>2.130970</td>\n      <td>5.247180</td>\n      <td>NaN</td>\n      <td>34.872290</td>\n      <td>7.016769</td>\n      <td>14.875299</td>\n      <td>76.874355</td>\n      <td>49.002065</td>\n      <td>1018.695907</td>\n      <td>1015.626298</td>\n      <td>6.249169</td>\n      <td>5.509499</td>\n      <td>16.551231</td>\n      <td>23.124692</td>\n    </tr>\n    <tr>\n      <th>Sale</th>\n      <td>8.595363</td>\n      <td>20.321583</td>\n      <td>1.523612</td>\n      <td>3.825179</td>\n      <td>6.689749</td>\n      <td>42.479777</td>\n      <td>14.335311</td>\n      <td>22.307853</td>\n      <td>78.699895</td>\n      <td>56.201893</td>\n      <td>1017.723214</td>\n      <td>1015.801296</td>\n      <td>5.329070</td>\n      <td>5.081528</td>\n      <td>13.464759</td>\n      <td>18.818940</td>\n    </tr>\n    <tr>\n      <th>SalmonGums</th>\n      <td>9.376693</td>\n      <td>24.288645</td>\n      <td>1.037027</td>\n      <td>NaN</td>\n      <td>NaN</td>\n      <td>39.748372</td>\n      <td>16.293269</td>\n      <td>17.314452</td>\n      <td>62.845520</td>\n      <td>40.778922</td>\n      <td>NaN</td>\n      <td>NaN</td>\n      <td>NaN</td>\n      <td>NaN</td>\n      <td>17.080398</td>\n      <td>22.708857</td>\n    </tr>\n    <tr>\n      <th>Sydney</th>\n      <td>15.062213</td>\n      <td>23.292758</td>\n      <td>3.477445</td>\n      <td>5.317841</td>\n      <td>7.194377</td>\n      <td>41.757589</td>\n      <td>15.265740</td>\n      <td>19.739809</td>\n      <td>67.602704</td>\n      <td>54.291630</td>\n      <td>1018.302441</td>\n      <td>1015.980697</td>\n      <td>4.233523</td>\n      <td>4.184912</td>\n      <td>18.065421</td>\n      <td>21.748349</td>\n    </tr>\n    <tr>\n      <th>SydneyAirport</th>\n      <td>14.893845</td>\n      <td>23.394050</td>\n      <td>2.984631</td>\n      <td>5.268154</td>\n      <td>7.193578</td>\n      <td>47.234280</td>\n      <td>18.559689</td>\n      <td>25.773081</td>\n      <td>64.735453</td>\n      <td>53.872376</td>\n      <td>1018.394002</td>\n      <td>1015.995533</td>\n      <td>4.279282</td>\n      <td>4.276200</td>\n      <td>18.550085</td>\n      <td>21.785188</td>\n    </tr>\n    <tr>\n      <th>Townsville</th>\n      <td>20.412931</td>\n      <td>29.361485</td>\n      <td>3.455083</td>\n      <td>7.198736</td>\n      <td>8.465554</td>\n      <td>38.840570</td>\n      <td>15.233831</td>\n      <td>24.259529</td>\n      <td>63.931720</td>\n      <td>57.387140</td>\n      <td>1015.166788</td>\n      <td>1011.906563</td>\n      <td>4.290628</td>\n      <td>4.008727</td>\n      <td>25.632847</td>\n      <td>27.765462</td>\n    </tr>\n    <tr>\n      <th>Tuggeranong</th>\n      <td>7.235581</td>\n      <td>20.771295</td>\n      <td>2.165203</td>\n      <td>NaN</td>\n      <td>NaN</td>\n      <td>35.215883</td>\n      <td>7.641560</td>\n      <td>14.882590</td>\n      <td>72.797447</td>\n      <td>47.124916</td>\n      <td>1018.525386</td>\n      <td>1015.670338</td>\n      <td>NaN</td>\n      <td>NaN</td>\n      <td>12.571045</td>\n      <td>19.438480</td>\n    </tr>\n    <tr>\n      <th>Uluru</th>\n      <td>14.399533</td>\n      <td>30.389633</td>\n      <td>0.714555</td>\n      <td>NaN</td>\n      <td>NaN</td>\n      <td>41.268373</td>\n      <td>17.610928</td>\n      <td>16.986868</td>\n      <td>42.254785</td>\n      <td>23.838477</td>\n      <td>1017.145855</td>\n      <td>1013.345502</td>\n      <td>5.567568</td>\n      <td>4.832911</td>\n      <td>20.996568</td>\n      <td>29.071832</td>\n    </tr>\n    <tr>\n      <th>WaggaWagga</th>\n      <td>9.628212</td>\n      <td>23.046863</td>\n      <td>1.711737</td>\n      <td>5.191840</td>\n      <td>8.208085</td>\n      <td>36.648105</td>\n      <td>12.881248</td>\n      <td>16.207648</td>\n      <td>67.833781</td>\n      <td>42.575310</td>\n      <td>1018.490876</td>\n      <td>1015.837538</td>\n      <td>3.857505</td>\n      <td>4.191952</td>\n      <td>14.940054</td>\n      <td>21.766152</td>\n    </tr>\n    <tr>\n      <th>Walpole</th>\n      <td>11.837917</td>\n      <td>20.491127</td>\n      <td>2.865308</td>\n      <td>NaN</td>\n      <td>NaN</td>\n      <td>39.829640</td>\n      <td>13.924143</td>\n      <td>17.231809</td>\n      <td>76.170766</td>\n      <td>66.325710</td>\n      <td>1017.869830</td>\n      <td>1016.228933</td>\n      <td>NaN</td>\n      <td>NaN</td>\n      <td>15.944822</td>\n      <td>18.591719</td>\n    </tr>\n    <tr>\n      <th>Watsonia</th>\n      <td>10.115729</td>\n      <td>20.858445</td>\n      <td>1.842159</td>\n      <td>4.631863</td>\n      <td>6.369438</td>\n      <td>38.059219</td>\n      <td>9.922585</td>\n      <td>15.199260</td>\n      <td>78.364435</td>\n      <td>54.779946</td>\n      <td>1018.057523</td>\n      <td>1016.112483</td>\n      <td>5.246972</td>\n      <td>5.266577</td>\n      <td>13.748276</td>\n      <td>19.363694</td>\n    </tr>\n    <tr>\n      <th>Williamtown</th>\n      <td>12.774443</td>\n      <td>23.985346</td>\n      <td>3.621076</td>\n      <td>6.786268</td>\n      <td>7.139060</td>\n      <td>41.681518</td>\n      <td>16.419861</td>\n      <td>22.242688</td>\n      <td>71.920153</td>\n      <td>54.057511</td>\n      <td>1018.477119</td>\n      <td>1015.989892</td>\n      <td>4.711505</td>\n      <td>4.493398</td>\n      <td>18.068780</td>\n      <td>22.475279</td>\n    </tr>\n    <tr>\n      <th>Witchcliffe</th>\n      <td>10.786932</td>\n      <td>21.685407</td>\n      <td>2.910366</td>\n      <td>NaN</td>\n      <td>NaN</td>\n      <td>40.083025</td>\n      <td>13.959946</td>\n      <td>19.168124</td>\n      <td>71.386637</td>\n      <td>57.826103</td>\n      <td>1018.385302</td>\n      <td>1016.727340</td>\n      <td>NaN</td>\n      <td>NaN</td>\n      <td>16.550151</td>\n      <td>19.806052</td>\n    </tr>\n    <tr>\n      <th>Wollongong</th>\n      <td>14.919289</td>\n      <td>21.445166</td>\n      <td>3.611757</td>\n      <td>NaN</td>\n      <td>NaN</td>\n      <td>45.690842</td>\n      <td>16.637222</td>\n      <td>21.960685</td>\n      <td>67.649158</td>\n      <td>65.139832</td>\n      <td>1018.152821</td>\n      <td>1016.063471</td>\n      <td>6.219880</td>\n      <td>5.857854</td>\n      <td>18.173266</td>\n      <td>19.915692</td>\n    </tr>\n    <tr>\n      <th>Woomera</th>\n      <td>13.410819</td>\n      <td>26.639327</td>\n      <td>0.496816</td>\n      <td>10.200118</td>\n      <td>9.042980</td>\n      <td>44.156566</td>\n      <td>20.098720</td>\n      <td>20.707786</td>\n      <td>53.012175</td>\n      <td>28.356876</td>\n      <td>1018.568959</td>\n      <td>1015.908570</td>\n      <td>2.528891</td>\n      <td>2.897103</td>\n      <td>17.974806</td>\n      <td>25.244879</td>\n    </tr>\n  </tbody>\n</table>\n</div>"
     },
     "metadata": {},
     "execution_count": 168
    }
   ],
   "source": [
    "a=df.groupby(['Location']).mean()\n",
    "a"
   ]
  },
  {
   "cell_type": "code",
   "execution_count": null,
   "metadata": {},
   "outputs": [],
   "source": []
  }
 ]
}